{
 "cells": [
  {
   "cell_type": "markdown",
   "metadata": {},
   "source": [
    "# Srings exercise one\n",
    "## `y a h  y a h` "
   ]
  },
  {
   "cell_type": "code",
   "execution_count": 11,
   "metadata": {},
   "outputs": [],
   "source": [
    "# create a variable with the data type string\n",
    "myString = \"hello world\" # double quotes means text data\n",
    "userName = \"Ricardo\"\n",
    "words = \"My mum said i know alot of words\"\n",
    "question = \"how many people in the world\"\n",
    "answer = \"a lot\"\n"
   ]
  },
  {
   "cell_type": "code",
   "execution_count": 12,
   "metadata": {},
   "outputs": [
    {
     "name": "stdout",
     "output_type": "stream",
     "text": [
      "My mum said i know alot of words\n",
      "My mum said i know alot of wordshow many people in the world\n",
      "hey ... i am Ricardo\n",
      "hey ... i am Ricardo\n"
     ]
    }
   ],
   "source": [
    "# functions that i can use to output, input and do other things with strings \n",
    "# output\n",
    "print(words)\n",
    "print(words + question) # when you + strings it adds the two variables together \n",
    "# printing hard coded stuff and variables \n",
    "print(\"hey ... i am\", userName)\n",
    "print(\"hey ... i am \" + userName)\n"
   ]
  },
  {
   "cell_type": "code",
   "execution_count": null,
   "metadata": {},
   "outputs": [],
   "source": []
  }
 ],
 "metadata": {
  "kernelspec": {
   "display_name": "Python 3",
   "language": "python",
   "name": "python3"
  },
  "language_info": {
   "codemirror_mode": {
    "name": "ipython",
    "version": 3
   },
   "file_extension": ".py",
   "mimetype": "text/x-python",
   "name": "python",
   "nbconvert_exporter": "python",
   "pygments_lexer": "ipython3",
   "version": "3.5.2"
  }
 },
 "nbformat": 4,
 "nbformat_minor": 2
}
